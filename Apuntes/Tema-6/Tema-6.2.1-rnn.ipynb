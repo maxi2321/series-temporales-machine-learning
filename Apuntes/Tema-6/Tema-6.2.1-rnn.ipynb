{
 "cells": [
  {
   "cell_type": "code",
   "execution_count": 1,
   "metadata": {},
   "outputs": [],
   "source": [
    "import torch\n",
    "import numpy as np\n",
    "import matplotlib.pyplot as plt\n",
    "\n",
    "import csv, os, sys\n",
    "import datetime\n",
    "# necesitamos setear el path como variable de entorno para importar modulos\n",
    "sys.path.append(os.path.join('..','..','libs'))\n",
    "from read_smn import read_smn"
   ]
  },
  {
   "cell_type": "code",
   "execution_count": 2,
   "metadata": {},
   "outputs": [],
   "source": [
    "lector = read_smn(os.path.join('..','..','Data','junio-SMN','horario'))\n",
    "# Extraemos los datos de salta\n",
    "tstamps, data = lector.filter_by_station('SALTA')\n",
    "train_tstamps = tstamps[:600]\n",
    "valid_tstamps = tstamps[600:]\n",
    "train_temp = data[:600,0]\n",
    "valid_temp = data[600:,0]"
   ]
  },
  {
   "cell_type": "code",
   "execution_count": null,
   "metadata": {},
   "outputs": [],
   "source": []
  }
 ],
 "metadata": {
  "kernelspec": {
   "display_name": "series-temporales-machine-learning",
   "language": "python",
   "name": "python3"
  },
  "language_info": {
   "codemirror_mode": {
    "name": "ipython",
    "version": 3
   },
   "file_extension": ".py",
   "mimetype": "text/x-python",
   "name": "python",
   "nbconvert_exporter": "python",
   "pygments_lexer": "ipython3",
   "version": "3.10.12"
  }
 },
 "nbformat": 4,
 "nbformat_minor": 2
}
