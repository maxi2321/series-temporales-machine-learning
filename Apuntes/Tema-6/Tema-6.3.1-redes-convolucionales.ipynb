{
 "cells": [
  {
   "cell_type": "code",
   "execution_count": 1,
   "metadata": {},
   "outputs": [],
   "source": [
    "import numpy as np\n",
    "import torch\n",
    "import matplotlib.pyplot as plt"
   ]
  },
  {
   "cell_type": "code",
   "execution_count": 2,
   "metadata": {},
   "outputs": [],
   "source": [
    "def circle(nx : int, ny: int, rad: int):\n",
    "    '''funcion para construir circulos'''\n",
    "    assert rad < min(nx,ny), 'el circulo debe estar completamente dentro'\n",
    "    canvas = np.zeros(shape=(nx,ny))\n",
    "    for i in range(nx):\n",
    "        for j in range(ny):\n",
    "            if ((i-nx//2)**2 + (j-ny//2)**2 < rad**2):\n",
    "                canvas[i,j] = 1\n",
    "    return canvas    \n",
    "\n",
    "def square(nx : int, ny: int, length: int):\n",
    "    '''funcion para construir cuadradillos'''\n",
    "    assert length < min(nx,ny)\n",
    "    canvas = np.ones(shape=(nx,ny))\n",
    "    for i in range(nx):\n",
    "        for j in range(ny):\n",
    "            if (np.abs(i-nx//2) > length) or (np.abs(j-ny//2) > length):\n",
    "                canvas[i,j] = 0\n",
    "    return canvas    "
   ]
  },
  {
   "cell_type": "code",
   "execution_count": 4,
   "metadata": {},
   "outputs": [],
   "source": [
    "nx = 50\n",
    "ny = 50\n",
    "rng = np.random.default_rng()\n",
    "y_train = rng.integers(0,2,200)\n",
    "x_train = []\n",
    "for i in y_train:\n",
    "    if i == 0:\n",
    "        x_train.append(circle(nx, ny, rng.integers(1,25)))\n",
    "    else:\n",
    "        x_train.append(square(nx, ny, rng.integers(1,25)))"
   ]
  },
  {
   "cell_type": "code",
   "execution_count": 6,
   "metadata": {},
   "outputs": [
    {
     "data": {
      "text/plain": [
       "<matplotlib.image.AxesImage at 0x723a2db3af80>"
      ]
     },
     "execution_count": 6,
     "metadata": {},
     "output_type": "execute_result"
    },
    {
     "data": {
      "image/png": "[encoded data removed]",
      "text/plain": [
       "<Figure size 640x480 with 1 Axes>"
      ]
     },
     "metadata": {},
     "output_type": "display_data"
    }
   ],
   "source": [
    "plt.imshow(x_train[0])"
   ]
  },
  {
   "cell_type": "code",
   "execution_count": null,
   "metadata": {},
   "outputs": [],
   "source": [
    "class Model(torch.nn.Module):\n",
    "    def __init__(self):\n",
    "        super().__init__()\n",
    "\n",
    "        self.conv1 = torch.nn.Conv2d(in_channels=1,\n",
    "                                     out_channels=8,\n",
    "                                     kernel_size=(3,3),\n",
    "                                     padding = (1,1),\n",
    "                                     stride = (1,1)) \n",
    "        # 8, 50x50\n",
    "        self.act1  = torch.nn.ReLU()\n",
    "        self.pool1 = torch.nn.MaxPool2d(kernel_size=(2,2))\n",
    "        # 8, 25x25\n",
    "        self.conv2 = torch.nn.Conv2d(in_channels = 8, \n",
    "                                     out_channels=16, \n",
    "                                     kernel_size=3, \n",
    "                                     stride=1, \n",
    "                                     padding=1)\n",
    "        # 16, 25x25\n",
    "        self.act2  = torch.nn.ReLU()\n",
    "        self.pool2 = torch.nn.MaxPool2d(2)\n",
    "        # 16, 12,12 ????\n",
    "        self.lin   = torch.nn.Linear(in_features = 16*12*12, \n",
    "                                     out_features = 2)\n",
    "        self.sigm  = torch.nn.Sigmoid()\n",
    "\n",
    "    def forward(self, x):\n",
    "        x = self.conv1(x)\n",
    "        print('conv1', x.shape)\n",
    "        x = self.act1(x)\n",
    "        print('act1', x.shape)\n",
    "        x = self.pool1(x)\n",
    "        print('pool1', x.shape)\n",
    "        return x\n",
    "\n",
    "\n"
   ]
  }
 ],
 "metadata": {
  "kernelspec": {
   "display_name": "STenv",
   "language": "python",
   "name": "python3"
  },
  "language_info": {
   "codemirror_mode": {
    "name": "ipython",
    "version": 3
   },
   "file_extension": ".py",
   "mimetype": "text/x-python",
   "name": "python",
   "nbconvert_exporter": "python",
   "pygments_lexer": "ipython3",
   "version": "3.10.12"
  }
 },
 "nbformat": 4,
 "nbformat_minor": 2
}
