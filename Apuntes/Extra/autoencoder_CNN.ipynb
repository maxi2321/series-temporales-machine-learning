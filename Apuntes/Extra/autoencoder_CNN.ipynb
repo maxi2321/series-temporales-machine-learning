{
 "cells": [
  {
   "cell_type": "code",
   "execution_count": 1,
   "metadata": {},
   "outputs": [],
   "source": [
    "import numpy as np\n",
    "import matplotlib.pyplot as plt\n",
    "import torch"
   ]
  },
  {
   "cell_type": "code",
   "execution_count": 196,
   "metadata": {},
   "outputs": [],
   "source": [
    "def particulas(lienzo, n_circles):\n",
    "    '''\n",
    "    Esta funcion dibuja circulitos al azar en un lienzo (matriz de ceros)\n",
    "    el lienzo debe ser un array de numpy\n",
    "    '''\n",
    "    radio_minimo = 4\n",
    "    radio_maximo = 10\n",
    "    rng = np.random.default_rng()\n",
    "    nx = lienzo.shape[0]\n",
    "    ny = lienzo.shape[1]\n",
    "    # para evitar superposicion agregamos los circulos 1 a 1\n",
    "    # el primero\n",
    "    x_cen = rng.integers(radio_maximo, nx-radio_maximo)\n",
    "    y_cen = rng.integers(radio_maximo, ny-radio_maximo)\n",
    "    radii = [rng.integers(radio_minimo,radio_maximo)]\n",
    "    pos = [np.array([x_cen, y_cen])]\n",
    "    # el resto\n",
    "    for i in range(1, n_circles):\n",
    "        done = True\n",
    "        while done:\n",
    "            x_cen = rng.integers(radio_maximo, nx-radio_maximo)\n",
    "            y_cen = rng.integers(radio_maximo, ny-radio_maximo)\n",
    "            radio = rng.integers(radio_minimo,radio_maximo)\n",
    "            for j in range(len(pos)):\n",
    "                dist = np.sqrt((x_cen -pos[j][0])**2 + (y_cen -pos[j][1])**2)\n",
    "                if dist < (radii[j] + radio ):\n",
    "                    break\n",
    "                elif j == len(pos)-1:\n",
    "                    radii.append(radio)\n",
    "                    pos.append(np.array([x_cen, y_cen]))\n",
    "                    done = False\n",
    "                    \n",
    "    # dibujamos en el lienzo\n",
    "    \n",
    "    for c in range(n_circles):\n",
    "        for i in range(nx):\n",
    "            for j in range(ny):\n",
    "                if ((i-pos[c][0])**2 + (j-pos[c][1])**2 < radii[c]**2):\n",
    "                    lienzo[i,j] = 1\n",
    "\n",
    "    return lienzo\n"
   ]
  },
  {
   "cell_type": "code",
   "execution_count": 206,
   "metadata": {},
   "outputs": [
    {
     "data": {
      "text/plain": [
       "<matplotlib.image.AxesImage at 0x75eb8ed5f0d0>"
      ]
     },
     "execution_count": 206,
     "metadata": {},
     "output_type": "execute_result"
    },
    {
     "data": {
      "image/png": "[encoded data removed]",
      "text/plain": [
       "<Figure size 640x480 with 1 Axes>"
      ]
     },
     "metadata": {},
     "output_type": "display_data"
    }
   ],
   "source": [
    "plt.imshow(particulas(np.zeros(shape=(200,200)), 10))"
   ]
  },
  {
   "cell_type": "code",
   "execution_count": 3,
   "metadata": {},
   "outputs": [
    {
     "data": {
      "text/plain": [
       "array([[0., 0., 0.],\n",
       "       [0., 0., 0.],\n",
       "       [0., 0., 0.]])"
      ]
     },
     "execution_count": 3,
     "metadata": {},
     "output_type": "execute_result"
    }
   ],
   "source": [
    "\n",
    "class Reshape(torch.nn.Module):\n",
    "    def __init__(self, *args) -> None:\n",
    "        super().__init__()\n",
    "        self.shape = args\n",
    "\n",
    "    def forward(self, x):\n",
    "        return x.view(self.shape)\n",
    "    \n",
    "class Trim(torch.nn.Module):\n",
    "    def __init__(self, *args):\n",
    "        super().__init__()\n",
    "\n",
    "    def forward(self, x):\n",
    "        return x[:, :, :100, :90]\n",
    "\n",
    "class InitPool(torch.nn.Module):\n",
    "    def __init__(self, *args) -> None:\n",
    "        super().__init__()\n",
    "        self.pool = torch.nn.AvgPool2d(kernel_size= 4,4)\n",
    "\n",
    "    def forward(self, x):\n",
    "        return self.pool(x)\n",
    "    \n",
    "class CNN_Autoencoder(torch.nn.Module):\n",
    "    def __init__(self) -> None:\n",
    "        super().__init__()\n",
    "        leak = 2\n",
    "        dr = 0.25\n",
    "        self.encoder = torch.nn.Sequential(\n",
    "                                torch.nn.Conv2d(in_channels=1,out_channels=16,kernel_size=(3,3),stride=(1,1), padding=7),\n",
    "                                torch.nn.Dropout(dr),\n",
    "                                torch.nn.ELU(leak),\n",
    "                                torch.nn.Conv2d(in_channels=16,out_channels=32,kernel_size=(3,3),stride=(2,2), padding=1),\n",
    "                                torch.nn.Dropout(dr),\n",
    "                                torch.nn.Flatten(start_dim=1),\n",
    "                                torch.nn.Linear(in_features=64*7*6,out_features=3),\n",
    "                                # torch.nn.Tanh()\n",
    "                                )\n",
    "\n",
    "        self.decoder = torch.nn.Sequential(\n",
    "                                torch.nn.Linear(in_features=3, out_features=64*7*6),\n",
    "                                Reshape(-1,64,7,6),\n",
    "                                torch.nn.ConvTranspose2d(in_channels=64, out_channels=64, kernel_size=(3,3), stride=(2,2), padding=1, output_padding=1),\n",
    "                                torch.nn.ELU(leak),\n",
    "                                torch.nn.ConvTranspose2d(in_channels=64, out_channels=64, kernel_size=(3,3), stride=(2,2), padding=1, output_padding=1),\n",
    "                                torch.nn.ELU(leak),\n",
    "                                torch.nn.ConvTranspose2d(in_channels=64, out_channels=64, kernel_size=(3,3), stride=(2,2), padding=1, output_padding=1),\n",
    "                                torch.nn.ELU(leak),\n",
    "                                torch.nn.ConvTranspose2d(in_channels=64, out_channels=32, kernel_size=(3,3), stride=(2,2), padding=1, output_padding=1),\n",
    "                                torch.nn.ELU(leak),\n",
    "                                torch.nn.ConvTranspose2d(in_channels=32, out_channels=1, kernel_size=(5,5), stride=(1,1), padding=2, output_padding= 0),\n",
    "                                Trim(x),\n",
    "                                torch.nn.Sigmoid(),\n",
    "                                )\n",
    "    def forward(self, x):\n",
    "        x = self.encoder(x)\n",
    "        x = self.decoder(x)\n",
    "        return x"
   ]
  },
  {
   "cell_type": "code",
   "execution_count": null,
   "metadata": {},
   "outputs": [],
   "source": []
  }
 ],
 "metadata": {
  "kernelspec": {
   "display_name": "STenv",
   "language": "python",
   "name": "python3"
  },
  "language_info": {
   "codemirror_mode": {
    "name": "ipython",
    "version": 3
   },
   "file_extension": ".py",
   "mimetype": "text/x-python",
   "name": "python",
   "nbconvert_exporter": "python",
   "pygments_lexer": "ipython3",
   "version": "3.10.12"
  }
 },
 "nbformat": 4,
 "nbformat_minor": 2
}
